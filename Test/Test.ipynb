{
 "cells": [
  {
   "cell_type": "code",
   "execution_count": 11,
   "metadata": {},
   "outputs": [],
   "source": [
    "import os\n",
    "import cv2\n",
    "import numpy as np\n",
    "import pandas as pd\n",
    "\n",
    "df = pd.read_csv(\"fer2013/fer2013.csv\")\n",
    "train = df[df.Usage == \"Training\"]\n",
    "test  = df[df.Usage != \"Training\"]"
   ]
  },
  {
   "cell_type": "code",
   "execution_count": 12,
   "metadata": {},
   "outputs": [],
   "source": [
    "train_0 = train[train.emotion == 0]\n",
    "train_1 = train[train.emotion == 1]\n",
    "train_2 = train[train.emotion == 2]\n",
    "train_3 = train[train.emotion == 3]\n",
    "train_4 = train[train.emotion == 4]\n",
    "train_5 = train[train.emotion == 5]\n",
    "train_6 = train[train.emotion == 6]\n",
    "\n",
    "test_0 = test[test.emotion == 0]\n",
    "test_1 = test[test.emotion == 1]\n",
    "test_2 = test[test.emotion == 2]\n",
    "test_3 = test[test.emotion == 3]\n",
    "test_4 = test[test.emotion == 4]\n",
    "test_5 = test[test.emotion == 5]\n",
    "test_6 = test[test.emotion == 6]\n",
    "\n",
    "test = [test_0,test_1,test_2,test_3,test_4,test_5,test_6]\n",
    "emotions = [\"angry\", \"disgust\", \"fear\", \"happy\", \"sad\", \"surprise\", \"neutral\"]"
   ]
  },
  {
   "cell_type": "code",
   "execution_count": 13,
   "metadata": {},
   "outputs": [],
   "source": [
    "from PIL import Image\n",
    "for idx,emotion in enumerate(emotions):\n",
    "    os.mkdir(emotion)\n",
    "    for i, row in test[idx].iterrows():\n",
    "        pixels = list(row[\"pixels\"].split(' '))\n",
    "        pixels = np.asarray(pixels, dtype=np.uint8)\n",
    "        pixels = pixels.reshape((48, 48))\n",
    "        path_file_name = os.path.join(emotion, 'test_'+ emotion + '_'+str(i)+'.jpg')\n",
    "        cv2.imwrite(path_file_name, pixels)"
   ]
  },
  {
   "cell_type": "code",
   "execution_count": 8,
   "metadata": {},
   "outputs": [],
   "source": []
  }
 ],
 "metadata": {
  "kernelspec": {
   "display_name": "Python 3 (ipykernel)",
   "language": "python",
   "name": "python3"
  },
  "language_info": {
   "codemirror_mode": {
    "name": "ipython",
    "version": 3
   },
   "file_extension": ".py",
   "mimetype": "text/x-python",
   "name": "python",
   "nbconvert_exporter": "python",
   "pygments_lexer": "ipython3",
   "version": "3.7.6"
  },
  "vscode": {
   "interpreter": {
    "hash": "5cdc3277f3df5e26a37d16b2bc554a4744037161c458ccd2919bf3282307f626"
   }
  }
 },
 "nbformat": 4,
 "nbformat_minor": 2
}
