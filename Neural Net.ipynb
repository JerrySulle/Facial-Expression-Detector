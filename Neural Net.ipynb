{
 "cells": [
  {
   "cell_type": "code",
   "execution_count": 1,
   "metadata": {},
   "outputs": [],
   "source": [
    "import matplotlib.pyplot as plt\n",
    "import numpy as np\n",
    "import PIL\n",
    "import tensorflow as tf\n",
    "import pandas as pd\n",
    "\n",
    "from tensorflow import keras\n",
    "from tensorflow.keras import layers\n",
    "from tensorflow.keras.models import Sequential\n",
    "import os\n",
    "from tqdm import tqdm\n",
    "import cv2"
   ]
  },
  {
   "cell_type": "code",
   "execution_count": 2,
   "metadata": {},
   "outputs": [
    {
     "name": "stdout",
     "output_type": "stream",
     "text": [
      "train/angry\n"
     ]
    },
    {
     "name": "stderr",
     "output_type": "stream",
     "text": [
      "100%|███████████████████████████████████████████████████████████████████████████| 3995/3995 [00:00<00:00, 15551.96it/s]\n"
     ]
    },
    {
     "name": "stdout",
     "output_type": "stream",
     "text": [
      "train/fear\n"
     ]
    },
    {
     "name": "stderr",
     "output_type": "stream",
     "text": [
      "100%|███████████████████████████████████████████████████████████████████████████| 4097/4097 [00:00<00:00, 15537.61it/s]\n"
     ]
    },
    {
     "name": "stdout",
     "output_type": "stream",
     "text": [
      "train/happy\n"
     ]
    },
    {
     "name": "stderr",
     "output_type": "stream",
     "text": [
      "100%|███████████████████████████████████████████████████████████████████████████| 7215/7215 [00:00<00:00, 15208.98it/s]\n"
     ]
    },
    {
     "name": "stdout",
     "output_type": "stream",
     "text": [
      "train/sad\n"
     ]
    },
    {
     "name": "stderr",
     "output_type": "stream",
     "text": [
      "100%|███████████████████████████████████████████████████████████████████████████| 4830/4830 [00:00<00:00, 15641.47it/s]\n"
     ]
    },
    {
     "name": "stdout",
     "output_type": "stream",
     "text": [
      "train/surprise\n"
     ]
    },
    {
     "name": "stderr",
     "output_type": "stream",
     "text": [
      "100%|███████████████████████████████████████████████████████████████████████████| 3171/3171 [00:00<00:00, 15352.37it/s]\n"
     ]
    },
    {
     "name": "stdout",
     "output_type": "stream",
     "text": [
      "train/neutral\n"
     ]
    },
    {
     "name": "stderr",
     "output_type": "stream",
     "text": [
      "100%|███████████████████████████████████████████████████████████████████████████| 4965/4965 [00:00<00:00, 15245.96it/s]\n",
      "C:\\Users\\PC\\AppData\\Local\\Programs\\Python\\Python37\\lib\\site-packages\\numpy\\lib\\npyio.py:528: VisibleDeprecationWarning: Creating an ndarray from ragged nested sequences (which is a list-or-tuple of lists-or-tuples-or ndarrays with different lengths or shapes) is deprecated. If you meant to do this, you must specify 'dtype=object' when creating the ndarray.\n",
      "  arr = np.asanyarray(arr)\n"
     ]
    },
    {
     "name": "stdout",
     "output_type": "stream",
     "text": [
      "Angry:  3995\n",
      "Fear:  4097\n",
      "Happy:  7215\n",
      "Sad:  4830\n",
      "Surprise:  3171\n",
      "Neutral:  4965\n"
     ]
    }
   ],
   "source": [
    "REBUILD_DATA = True\n",
    "\n",
    "class MakeTrain():\n",
    "    IMG_SIZE = 48\n",
    "    #resize the images to 50 by 50\n",
    "    angry = \"train/angry\"\n",
    "    fear = \"train/fear\"\n",
    "    happy = \"train/happy\"\n",
    "    sad = \"train/sad\"\n",
    "    surprise = \"train/surprise\"\n",
    "    neutral = \"train/neutral\"\n",
    "    LABELS = {angry : 0, fear : 1, happy : 2, sad : 3, surprise : 4, neutral : 5}\n",
    "    training_data = []\n",
    "    angrycount = 0\n",
    "    fearcount = 0\n",
    "    happycount = 0\n",
    "    sadcount = 0\n",
    "    surprisecount = 0\n",
    "    neutralcount = 0\n",
    "    \n",
    "    def make_training_data(self):\n",
    "        for label in self.LABELS:\n",
    "            print(label)\n",
    "            for f in tqdm(os.listdir(label)):\n",
    "                    path = os.path.join(label, f)\n",
    "                    #joining the path + the name of the file\n",
    "                    img = cv2.imread(path, cv2.IMREAD_GRAYSCALE)\n",
    "                    #convert to grayscale\n",
    "                    img = cv2.resize(img,(self.IMG_SIZE, self.IMG_SIZE))\n",
    "                    self.training_data.append([np.array(img), np.eye(6)[self.LABELS[label]]])\n",
    "                    #combine the images with the one hot vector\n",
    "\n",
    "                    if label == self.angry:\n",
    "                        self.angrycount += 1\n",
    "                    elif label == self.fear:\n",
    "                        self.fearcount += 1\n",
    "                    elif label == self.happy:\n",
    "                        self.happycount += 1\n",
    "                    elif label == self.sad:\n",
    "                        self.sadcount += 1\n",
    "                    elif label == self.surprise:\n",
    "                        self.surprisecount += 1\n",
    "                    elif label == self.neutral:\n",
    "                        self.neutralcount += 1\n",
    "\n",
    "                \n",
    "        np.random.shuffle(self.training_data)\n",
    "        np.save(\"training_data.npy\", self.training_data)\n",
    "        print(\"Angry: \", self.angrycount)\n",
    "        print(\"Fear: \", self.fearcount)\n",
    "        print(\"Happy: \", self.happycount)\n",
    "        print(\"Sad: \", self.sadcount)\n",
    "        print(\"Surprise: \", self.surprisecount)\n",
    "        print(\"Neutral: \", self.neutralcount)\n",
    "\n",
    "if REBUILD_DATA:\n",
    "    prediction = MakeTrain()\n",
    "    prediction.make_training_data()\n",
    "    \n",
    "training_data = np.load(\"training_data.npy\", allow_pickle = True)"
   ]
  },
  {
   "cell_type": "code",
   "execution_count": 3,
   "metadata": {},
   "outputs": [
    {
     "name": "stdout",
     "output_type": "stream",
     "text": [
      "test/angry\n"
     ]
    },
    {
     "name": "stderr",
     "output_type": "stream",
     "text": [
      "100%|█████████████████████████████████████████████████████████████████████████████| 958/958 [00:00<00:00, 15729.11it/s]\n"
     ]
    },
    {
     "name": "stdout",
     "output_type": "stream",
     "text": [
      "test/fear\n"
     ]
    },
    {
     "name": "stderr",
     "output_type": "stream",
     "text": [
      "100%|███████████████████████████████████████████████████████████████████████████| 1024/1024 [00:00<00:00, 15880.05it/s]\n"
     ]
    },
    {
     "name": "stdout",
     "output_type": "stream",
     "text": [
      "test/happy\n"
     ]
    },
    {
     "name": "stderr",
     "output_type": "stream",
     "text": [
      "100%|███████████████████████████████████████████████████████████████████████████| 1774/1774 [00:00<00:00, 16088.20it/s]\n"
     ]
    },
    {
     "name": "stdout",
     "output_type": "stream",
     "text": [
      "test/sad\n"
     ]
    },
    {
     "name": "stderr",
     "output_type": "stream",
     "text": [
      "100%|███████████████████████████████████████████████████████████████████████████| 1247/1247 [00:00<00:00, 15992.49it/s]\n"
     ]
    },
    {
     "name": "stdout",
     "output_type": "stream",
     "text": [
      "test/surprise\n"
     ]
    },
    {
     "name": "stderr",
     "output_type": "stream",
     "text": [
      "100%|█████████████████████████████████████████████████████████████████████████████| 831/831 [00:00<00:00, 15492.89it/s]\n"
     ]
    },
    {
     "name": "stdout",
     "output_type": "stream",
     "text": [
      "test/neutral\n"
     ]
    },
    {
     "name": "stderr",
     "output_type": "stream",
     "text": [
      "100%|███████████████████████████████████████████████████████████████████████████| 1233/1233 [00:00<00:00, 13927.62it/s]\n"
     ]
    },
    {
     "name": "stdout",
     "output_type": "stream",
     "text": [
      "Angry:  958\n",
      "Fear:  1024\n",
      "Happy:  1774\n",
      "Sad:  1247\n",
      "Surprise:  831\n",
      "Neutral:  1233\n"
     ]
    }
   ],
   "source": [
    "REBUILD_DATA = True\n",
    "\n",
    "class MakeTest():\n",
    "    IMG_SIZE = 48\n",
    "    #resize the images to 50 by 50\n",
    "    angry = \"test/angry\"\n",
    "    fear = \"test/fear\"\n",
    "    happy = \"test/happy\"\n",
    "    sad = \"test/sad\"\n",
    "    surprise = \"test/surprise\"\n",
    "    neutral = \"test/neutral\"\n",
    "    LABELS = {angry : 0, fear : 1, happy : 2, sad : 3, surprise : 4, neutral : 5}\n",
    "    testing_data = []\n",
    "    angrycount = 0\n",
    "    fearcount = 0\n",
    "    happycount = 0\n",
    "    sadcount = 0\n",
    "    surprisecount = 0\n",
    "    neutralcount = 0\n",
    "    \n",
    "    def make_testing_data(self):\n",
    "        for label in self.LABELS:\n",
    "            print(label)\n",
    "            for f in tqdm(os.listdir(label)):\n",
    "                    path = os.path.join(label, f)\n",
    "                    #joining the path + the name of the file\n",
    "                    img = cv2.imread(path, cv2.IMREAD_GRAYSCALE)\n",
    "                    #convert to grayscale\n",
    "                    img = cv2.resize(img,(self.IMG_SIZE, self.IMG_SIZE))\n",
    "                    self.testing_data.append([np.array(img), np.eye(6)[self.LABELS[label]]])\n",
    "                    #combine the images with the one hot vector\n",
    "\n",
    "                    if label == self.angry:\n",
    "                        self.angrycount += 1\n",
    "                    elif label == self.fear:\n",
    "                        self.fearcount += 1\n",
    "                    elif label == self.happy:\n",
    "                        self.happycount += 1\n",
    "                    elif label == self.sad:\n",
    "                        self.sadcount += 1\n",
    "                    elif label == self.surprise:\n",
    "                        self.surprisecount += 1\n",
    "                    elif label == self.neutral:\n",
    "                        self.neutralcount += 1\n",
    "\n",
    "                \n",
    "        np.random.shuffle(self.testing_data)\n",
    "        np.save(\"testing_data.npy\", self.testing_data)\n",
    "        print(\"Angry: \", self.angrycount)\n",
    "        print(\"Fear: \", self.fearcount)\n",
    "        print(\"Happy: \", self.happycount)\n",
    "        print(\"Sad: \", self.sadcount)\n",
    "        print(\"Surprise: \", self.surprisecount)\n",
    "        print(\"Neutral: \", self.neutralcount)\n",
    "\n",
    "if REBUILD_DATA:\n",
    "    prediction = MakeTest()\n",
    "    prediction.make_testing_data()\n",
    "    \n",
    "testing_data = np.load(\"testing_data.npy\", allow_pickle = True)"
   ]
  },
  {
   "cell_type": "code",
   "execution_count": 4,
   "metadata": {},
   "outputs": [
    {
     "name": "stdout",
     "output_type": "stream",
     "text": [
      "4608\n"
     ]
    },
    {
     "name": "stderr",
     "output_type": "stream",
     "text": [
      "C:\\Users\\PC\\AppData\\Local\\Programs\\Python\\Python37\\lib\\site-packages\\tqdm\\auto.py:22: TqdmWarning: IProgress not found. Please update jupyter and ipywidgets. See https://ipywidgets.readthedocs.io/en/stable/user_install.html\n",
      "  from .autonotebook import tqdm as notebook_tqdm\n"
     ]
    }
   ],
   "source": [
    "import torch\n",
    "import torch.nn as nn \n",
    "import torch.nn.functional as F\n",
    "\n",
    "\n",
    "class Net(nn.Module):\n",
    "    def __init__(self):\n",
    "        super().__init__()\n",
    "        self.conv1 = nn.Sequential(\n",
    "            nn.Conv2d(1, 64, 3),\n",
    "            nn.BatchNorm2d(64),\n",
    "#             nn.Dropout(0.25)\n",
    "        )\n",
    "        self.conv2 = nn.Sequential(\n",
    "            nn.Conv2d(64, 128, 5),\n",
    "            nn.BatchNorm2d(128),\n",
    "#             nn.Dropout(0.25)\n",
    "        )\n",
    "        self.conv3 = nn.Sequential(\n",
    "            nn.Conv2d(128, 512, 3),\n",
    "            nn.BatchNorm2d(512),\n",
    "#             nn.Dropout(0.25)\n",
    "        )\n",
    "        self.conv4 = nn.Sequential(\n",
    "            nn.Conv2d(512, 512, 3),\n",
    "            nn.BatchNorm2d(512),\n",
    "#             nn.Dropout(0.25)\n",
    "        )\n",
    "        \n",
    "        x = torch.randn(48,48).view(-1,1,48,48)\n",
    "        self._to_linear = None\n",
    "        self.convs(x)\n",
    "        \n",
    "        self.fc1 = nn.Sequential(\n",
    "            nn.Linear(self._to_linear ,256),\n",
    "#             nn.Dropout(0.25)\n",
    "        )\n",
    "        self.fc2 = nn.Sequential(\n",
    "            nn.Linear(256, 512),\n",
    "#             nn.Dropout(0.25)\n",
    "        )\n",
    "        self.fc3 = nn.Sequential(\n",
    "            nn.Linear(512, 6),\n",
    "        )\n",
    "        \n",
    "    def convs(self, x):\n",
    "        x = F.max_pool2d(F.relu(self.conv1(x)), (2,2))\n",
    "        x = F.max_pool2d(F.relu(self.conv2(x)), (2,2))\n",
    "        x = F.max_pool2d(F.relu(self.conv3(x)), (2,2))\n",
    "        \n",
    "        if self._to_linear is None:\n",
    "            self._to_linear = x[0].shape[0]*x[0].shape[1]*x[0].shape[2]\n",
    "            print(self._to_linear)\n",
    "        return x\n",
    "    \n",
    "    def forward(self, x):\n",
    "        x = self.convs(x)\n",
    "        x = x.view(-1, self._to_linear)\n",
    "        x = F.relu(self.fc1(x))\n",
    "        x = F.relu(self.fc2(x))\n",
    "        x = F.softmax(self.fc3(x),dim=1)\n",
    "        \n",
    "        return x\n",
    "        \n",
    "net = Net()"
   ]
  },
  {
   "cell_type": "code",
   "execution_count": 5,
   "metadata": {},
   "outputs": [
    {
     "name": "stdout",
     "output_type": "stream",
     "text": [
      "running on the GPU\n",
      "4608\n"
     ]
    }
   ],
   "source": [
    "device = torch.device(\"cuda:0\")\n",
    "device\n",
    "\n",
    "if torch.cuda.is_available():\n",
    "    device = torch.device(\"cuda:0\")\n",
    "    print(\"running on the GPU\")\n",
    "else:\n",
    "    device = torch.device(\"cpu\")\n",
    "    print(\"running on the CPU\")\n",
    "\n",
    "net = Net().to(device)"
   ]
  },
  {
   "cell_type": "code",
   "execution_count": 6,
   "metadata": {},
   "outputs": [
    {
     "name": "stdout",
     "output_type": "stream",
     "text": [
      "class:  ndarray\n",
      "shape:  (7067, 2)\n",
      "strides:  (16, 8)\n",
      "itemsize:  8\n",
      "aligned:  True\n",
      "contiguous:  True\n",
      "fortran:  False\n",
      "data pointer: 0x25c787bc020\n",
      "byteorder:  little\n",
      "byteswap:  False\n",
      "type: object\n"
     ]
    }
   ],
   "source": [
    "np.info(testing_data)"
   ]
  },
  {
   "cell_type": "code",
   "execution_count": 7,
   "metadata": {},
   "outputs": [
    {
     "name": "stderr",
     "output_type": "stream",
     "text": [
      "C:\\Users\\PC\\AppData\\Roaming\\Python\\Python37\\site-packages\\ipykernel_launcher.py:7: UserWarning: Creating a tensor from a list of numpy.ndarrays is extremely slow. Please consider converting the list to a single numpy.ndarray with numpy.array() before converting to a tensor. (Triggered internally at C:\\actions-runner\\_work\\pytorch\\pytorch\\builder\\windows\\pytorch\\torch\\csrc\\utils\\tensor_new.cpp:233.)\n",
      "  import sys\n"
     ]
    }
   ],
   "source": [
    "import torch.optim as optim\n",
    "from sklearn.model_selection import train_test_split\n",
    "\n",
    "optimizer = optim.Adam(net.parameters(), lr = 0.001)\n",
    "loss_function = nn.MSELoss()\n",
    "\n",
    "train_X = torch.Tensor([i[0] for i in training_data]).view(-1,48,48)\n",
    "train_X = train_X/255.0\n",
    "test_X = torch.Tensor([i[0] for i in testing_data]).view(-1,48,48)\n",
    "train_X = train_X/255.0\n",
    "\n",
    "train_y = torch.Tensor([i[1] for i in training_data])\n",
    "test_y = torch.Tensor([i[1] for i in testing_data])"
   ]
  },
  {
   "cell_type": "code",
   "execution_count": 8,
   "metadata": {
    "scrolled": true
   },
   "outputs": [
    {
     "name": "stderr",
     "output_type": "stream",
     "text": [
      "100%|████████████████████████████████████████████████████████████████████████████████| 283/283 [00:06<00:00, 42.03it/s]\n",
      "100%|████████████████████████████████████████████████████████████████████████████████| 283/283 [00:04<00:00, 64.16it/s]\n",
      "100%|████████████████████████████████████████████████████████████████████████████████| 283/283 [00:04<00:00, 64.15it/s]\n",
      "100%|████████████████████████████████████████████████████████████████████████████████| 283/283 [00:04<00:00, 64.11it/s]\n",
      "100%|████████████████████████████████████████████████████████████████████████████████| 283/283 [00:04<00:00, 64.08it/s]\n",
      "100%|████████████████████████████████████████████████████████████████████████████████| 283/283 [00:04<00:00, 64.13it/s]\n",
      "100%|████████████████████████████████████████████████████████████████████████████████| 283/283 [00:04<00:00, 64.11it/s]\n",
      "100%|████████████████████████████████████████████████████████████████████████████████| 283/283 [00:04<00:00, 64.14it/s]\n",
      "100%|████████████████████████████████████████████████████████████████████████████████| 283/283 [00:04<00:00, 64.18it/s]\n",
      "100%|████████████████████████████████████████████████████████████████████████████████| 283/283 [00:04<00:00, 64.20it/s]\n",
      "100%|████████████████████████████████████████████████████████████████████████████████| 283/283 [00:04<00:00, 64.17it/s]\n",
      "100%|████████████████████████████████████████████████████████████████████████████████| 283/283 [00:04<00:00, 64.21it/s]\n",
      "100%|████████████████████████████████████████████████████████████████████████████████| 283/283 [00:04<00:00, 64.20it/s]\n",
      "100%|████████████████████████████████████████████████████████████████████████████████| 283/283 [00:04<00:00, 64.21it/s]\n",
      "100%|████████████████████████████████████████████████████████████████████████████████| 283/283 [00:04<00:00, 64.17it/s]\n",
      "100%|████████████████████████████████████████████████████████████████████████████████| 283/283 [00:04<00:00, 64.13it/s]\n",
      "100%|████████████████████████████████████████████████████████████████████████████████| 283/283 [00:04<00:00, 64.43it/s]\n",
      "100%|████████████████████████████████████████████████████████████████████████████████| 283/283 [00:04<00:00, 64.29it/s]\n",
      "100%|████████████████████████████████████████████████████████████████████████████████| 283/283 [00:04<00:00, 64.28it/s]\n",
      "100%|████████████████████████████████████████████████████████████████████████████████| 283/283 [00:04<00:00, 64.37it/s]\n",
      "100%|████████████████████████████████████████████████████████████████████████████████| 283/283 [00:04<00:00, 64.39it/s]\n",
      "100%|████████████████████████████████████████████████████████████████████████████████| 283/283 [00:04<00:00, 64.34it/s]\n",
      "100%|████████████████████████████████████████████████████████████████████████████████| 283/283 [00:04<00:00, 64.37it/s]\n",
      "100%|████████████████████████████████████████████████████████████████████████████████| 283/283 [00:04<00:00, 64.42it/s]\n",
      "100%|████████████████████████████████████████████████████████████████████████████████| 283/283 [00:04<00:00, 64.31it/s]\n",
      "100%|████████████████████████████████████████████████████████████████████████████████| 283/283 [00:04<00:00, 64.30it/s]\n",
      "100%|████████████████████████████████████████████████████████████████████████████████| 283/283 [00:04<00:00, 64.30it/s]\n",
      "100%|████████████████████████████████████████████████████████████████████████████████| 283/283 [00:04<00:00, 64.37it/s]\n",
      "100%|████████████████████████████████████████████████████████████████████████████████| 283/283 [00:04<00:00, 64.34it/s]\n",
      "100%|████████████████████████████████████████████████████████████████████████████████| 283/283 [00:04<00:00, 64.39it/s]\n",
      "100%|████████████████████████████████████████████████████████████████████████████████| 283/283 [00:04<00:00, 64.28it/s]\n",
      "100%|████████████████████████████████████████████████████████████████████████████████| 283/283 [00:04<00:00, 64.32it/s]\n",
      "100%|████████████████████████████████████████████████████████████████████████████████| 283/283 [00:04<00:00, 64.36it/s]\n",
      "100%|████████████████████████████████████████████████████████████████████████████████| 283/283 [00:04<00:00, 64.39it/s]\n",
      "100%|████████████████████████████████████████████████████████████████████████████████| 283/283 [00:04<00:00, 64.36it/s]\n"
     ]
    }
   ],
   "source": [
    "BATCH_SIZE = 100\n",
    "EPOCHS = 35\n",
    "\n",
    "losses = []\n",
    "accuracies = []\n",
    "\n",
    "predicteds = []\n",
    "\n",
    "for epoch in range(EPOCHS):\n",
    "    for i in tqdm(range(0, len(train_X), BATCH_SIZE)):\n",
    "        \n",
    "        batch_X = train_X[i:i+BATCH_SIZE].view(-1,1,48,48).to(device)\n",
    "        batch_y = train_y[i:i+BATCH_SIZE].to(device)\n",
    "        \n",
    "        net.zero_grad()\n",
    "        outputs = net(batch_X)\n",
    "        loss = loss_function(outputs, batch_y)\n",
    "        loss.backward()\n",
    "        \n",
    "        optimizer.step()\n",
    "        \n",
    "    losses.append(loss.item())\n",
    "#     if(True):\n",
    "#         predicted = np.array([])\n",
    "#         true = np.array([])\n",
    "#         correct = 0\n",
    "#         total = 0\n",
    "#         for j in tqdm(range(len(test_X))):\n",
    "#             real_class = torch.argmax(test_y[j].to(device)).cpu()\n",
    "#             true = np.append(true,real_class.item())\n",
    "\n",
    "#             net_out = net(test_X[j:j+BATCH_SIZE].view(-1,1,48,48).to(device))[0]\n",
    "#             predicted_class = torch.argmax(net_out).cpu()\n",
    "#             predicted = np.append(predicted,predicted_class)\n",
    "\n",
    "#             predicteds.append(predicted)\n",
    "\n",
    "#             if predicted_class == real_class:\n",
    "#                 correct += 1\n",
    "#             total += 1\n",
    "#         accuracy = round(correct/total,3)\n",
    "#         accuracies.append(accuracy)"
   ]
  },
  {
   "cell_type": "code",
   "execution_count": 9,
   "metadata": {},
   "outputs": [
    {
     "data": {
      "text/plain": [
       "<AxesSubplot:>"
      ]
     },
     "execution_count": 9,
     "metadata": {},
     "output_type": "execute_result"
    },
    {
     "data": {
      "image/png": "[encoded data removed]",
      "text/plain": [
       "<Figure size 640x480 with 1 Axes>"
      ]
     },
     "metadata": {},
     "output_type": "display_data"
    }
   ],
   "source": [
    "import seaborn as sns\n",
    "\n",
    "sns.lineplot(losses)"
   ]
  },
  {
   "cell_type": "code",
   "execution_count": 10,
   "metadata": {},
   "outputs": [
    {
     "data": {
      "text/plain": [
       "<AxesSubplot:>"
      ]
     },
     "execution_count": 10,
     "metadata": {},
     "output_type": "execute_result"
    },
    {
     "data": {
      "image/png": "[encoded data removed]",
      "text/plain": [
       "<Figure size 640x480 with 1 Axes>"
      ]
     },
     "metadata": {},
     "output_type": "display_data"
    }
   ],
   "source": [
    "\n",
    "sns.lineplot(accuracies)"
   ]
  },
  {
   "cell_type": "code",
   "execution_count": 13,
   "metadata": {},
   "outputs": [
    {
     "name": "stderr",
     "output_type": "stream",
     "text": [
      "100%|█████████████████████████████████████████████████████████████████████████████| 7067/7067 [00:35<00:00, 200.96it/s]"
     ]
    },
    {
     "name": "stdout",
     "output_type": "stream",
     "text": [
      "Accuracy: 0.546\n"
     ]
    },
    {
     "name": "stderr",
     "output_type": "stream",
     "text": [
      "\n"
     ]
    }
   ],
   "source": [
    "correct = 0\n",
    "total = 0\n",
    "predicted = np.array([])\n",
    "true = np.array([])\n",
    "\n",
    "with torch.no_grad():\n",
    "    for i in tqdm(range(len(test_X))):\n",
    "        real_class = torch.argmax(test_y[i].to(device)).cpu()\n",
    "        true = np.append(true,real_class.item())\n",
    "        \n",
    "        net_out = net(test_X[i:i+BATCH_SIZE].view(-1,1,48,48).to(device))[0]\n",
    "        predicted_class = torch.argmax(net_out).cpu()\n",
    "        predicted = np.append(predicted,predicted_class)\n",
    "        \n",
    "        if predicted_class == real_class:\n",
    "            correct += 1\n",
    "        total += 1\n",
    "        \n",
    "    \n",
    "accuracy = round(correct/total,3)\n",
    "    \n",
    "print(\"Accuracy:\", accuracy)"
   ]
  },
  {
   "cell_type": "code",
   "execution_count": 14,
   "metadata": {},
   "outputs": [
    {
     "name": "stdout",
     "output_type": "stream",
     "text": [
      "[5. 1. 5. ... 4. 4. 5.]\n",
      "[2. 1. 3. ... 1. 1. 5.]\n",
      "              precision    recall  f1-score   support\n",
      "\n",
      "         0.0       0.50      0.43      0.46       958\n",
      "         1.0       0.40      0.37      0.38      1024\n",
      "         2.0       0.71      0.79      0.75      1774\n",
      "         3.0       0.40      0.60      0.48      1247\n",
      "         4.0       0.85      0.50      0.63       831\n",
      "         5.0       0.53      0.41      0.46      1233\n",
      "\n",
      "    accuracy                           0.55      7067\n",
      "   macro avg       0.56      0.52      0.53      7067\n",
      "weighted avg       0.57      0.55      0.55      7067\n",
      "\n",
      "[[ 415  106  116  222    8   91]\n",
      " [  98  375  101  322   36   92]\n",
      " [  83   50 1395  153   18   75]\n",
      " [ 122  111  110  750    6  148]\n",
      " [  21  193   79   76  415   47]\n",
      " [  97   98  156  365    7  510]]\n"
     ]
    },
    {
     "data": {
      "image/png": "[encoded data removed]",
      "text/plain": [
       "<Figure size 1170x827 with 1 Axes>"
      ]
     },
     "metadata": {},
     "output_type": "display_data"
    }
   ],
   "source": [
    "from sklearn.metrics import roc_curve, auc, classification_report, confusion_matrix, roc_auc_score\n",
    "print(true)\n",
    "print(predicted)\n",
    "\n",
    "print(classification_report(true, predicted))\n",
    "\n",
    "print(confusion_matrix(true, predicted))\n",
    "\n",
    "sns.set(rc={'figure.figsize':(11.7,8.27)})\n",
    "# sns.heatmap(confusion_matrix(true, predicted),annot=True)\n",
    "plt.imshow(confusion_matrix(true, predicted), cmap='hot')\n",
    "plt.show()"
   ]
  },
  {
   "cell_type": "code",
   "execution_count": 15,
   "metadata": {},
   "outputs": [],
   "source": [
    "import torch.onnx\n",
    "\n",
    "tensor = torch.randn(1, 1, 48, 48).to('cuda')\n",
    "\n",
    "# Export the model to ONNX format\n",
    "onnx_model = torch.onnx.export(net, tensor, \"model.onnx\", export_params=True)"
   ]
  },
  {
   "cell_type": "code",
   "execution_count": null,
   "metadata": {},
   "outputs": [],
   "source": []
  }
 ],
 "metadata": {
  "kernelspec": {
   "display_name": "Python 3 (ipykernel)",
   "language": "python",
   "name": "python3"
  },
  "language_info": {
   "codemirror_mode": {
    "name": "ipython",
    "version": 3
   },
   "file_extension": ".py",
   "mimetype": "text/x-python",
   "name": "python",
   "nbconvert_exporter": "python",
   "pygments_lexer": "ipython3",
   "version": "3.7.6"
  },
  "vscode": {
   "interpreter": {
    "hash": "5cdc3277f3df5e26a37d16b2bc554a4744037161c458ccd2919bf3282307f626"
   }
  }
 },
 "nbformat": 4,
 "nbformat_minor": 2
}
