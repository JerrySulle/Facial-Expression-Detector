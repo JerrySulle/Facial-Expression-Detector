{
 "cells": [
  {
   "cell_type": "code",
   "execution_count": 4,
   "metadata": {},
   "outputs": [],
   "source": [
    "import os\n",
    "import cv2\n",
    "import numpy as np\n",
    "import pandas as pd\n",
    "\n",
    "df = pd.read_csv(\"fer2013/fer2013.csv\")\n",
    "train = df[df.Usage == \"Training\"]\n",
    "test  = df[df.Usage != \"Training\"]"
   ]
  },
  {
   "cell_type": "code",
   "execution_count": 5,
   "metadata": {},
   "outputs": [],
   "source": [
    "train_0 = train[train.emotion == 0]\n",
    "train_1 = train[train.emotion == 1]\n",
    "train_2 = train[train.emotion == 2]\n",
    "train_3 = train[train.emotion == 3]\n",
    "train_4 = train[train.emotion == 4]\n",
    "train_5 = train[train.emotion == 5]\n",
    "train_6 = train[train.emotion == 6]\n",
    "\n",
    "test_0 = test[test.emotion == 0]\n",
    "test_1 = test[test.emotion == 1]\n",
    "test_2 = test[test.emotion == 2]\n",
    "test_3 = test[test.emotion == 3]\n",
    "test_4 = test[test.emotion == 4]\n",
    "test_5 = test[test.emotion == 5]\n",
    "test_6 = test[test.emotion == 6]\n",
    "\n",
    "train = [train_0,train_1,train_2,train_3,train_4,train_5,train_6]\n",
    "emotions = [\"angry\", \"disgust\", \"fear\", \"happy\", \"sad\", \"surprise\", \"neutral\"]"
   ]
  },
  {
   "cell_type": "code",
   "execution_count": 6,
   "metadata": {},
   "outputs": [],
   "source": [
    "from PIL import Image\n",
    "for idx,emotion in enumerate(emotions):\n",
    "    os.mkdir(emotion)\n",
    "    for i, row in train[idx].iterrows():\n",
    "        pixels = list(row[\"pixels\"].split(' '))\n",
    "        pixels = np.asarray(pixels, dtype=np.uint8)\n",
    "        pixels = pixels.reshape((48, 48))\n",
    "        path_file_name = os.path.join(emotion, 'train_'+ emotion + '_'+str(i)+'.jpg')\n",
    "        cv2.imwrite(path_file_name, pixels)"
   ]
  },
  {
   "cell_type": "code",
   "execution_count": 8,
   "metadata": {},
   "outputs": [],
   "source": []
  }
 ],
 "metadata": {
  "kernelspec": {
   "display_name": "Python 3 (ipykernel)",
   "language": "python",
   "name": "python3"
  },
  "language_info": {
   "codemirror_mode": {
    "name": "ipython",
    "version": 3
   },
   "file_extension": ".py",
   "mimetype": "text/x-python",
   "name": "python",
   "nbconvert_exporter": "python",
   "pygments_lexer": "ipython3",
   "version": "3.7.6"
  },
  "vscode": {
   "interpreter": {
    "hash": "5cdc3277f3df5e26a37d16b2bc554a4744037161c458ccd2919bf3282307f626"
   }
  }
 },
 "nbformat": 4,
 "nbformat_minor": 2
}
